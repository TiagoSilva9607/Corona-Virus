{
 "cells": [
  {
   "cell_type": "code",
   "execution_count": 62,
   "metadata": {},
   "outputs": [],
   "source": [
    "import pandas as pd\n",
    "import numpy as np\n",
    "from datetime import datetime as dt\n",
    "from sklearn.model_selection import train_test_split \n",
    "from sklearn import linear_model\n",
    "from sklearn import metrics\n",
    "from sklearn.preprocessing import MinMaxScaler\n",
    "import matplotlib.pyplot as plt  \n",
    "from sklearn.model_selection import cross_val_score"
   ]
  },
  {
   "cell_type": "code",
   "execution_count": 14,
   "metadata": {},
   "outputs": [],
   "source": [
    "confirmed_cases = pd.read_csv('https://raw.githubusercontent.com/CSSEGISandData/COVID-19/master/csse_covid_19_data/csse_covid_19_time_series/time_series_covid19_confirmed_global.csv')\n",
    "confirmed_deaths = pd.read_csv('https://raw.githubusercontent.com/CSSEGISandData/COVID-19/master/csse_covid_19_data/csse_covid_19_time_series/time_series_covid19_deaths_global.csv')\n",
    "confirmed_recovered = pd.read_csv('https://raw.githubusercontent.com/CSSEGISandData/COVID-19/master/csse_covid_19_data/csse_covid_19_time_series/time_series_covid19_recovered_global.csv')"
   ]
  },
  {
   "cell_type": "code",
   "execution_count": 15,
   "metadata": {},
   "outputs": [],
   "source": [
    "class Data():\n",
    "    def __init__(self,country):\n",
    "        self.country = country\n",
    "        self.confirmed = pd.read_csv('https://raw.githubusercontent.com/CSSEGISandData/COVID-19/master/csse_covid_19_data/csse_covid_19_time_series/time_series_covid19_confirmed_global.csv')\n",
    "        self.deaths = pd.read_csv('https://raw.githubusercontent.com/CSSEGISandData/COVID-19/master/csse_covid_19_data/csse_covid_19_time_series/time_series_covid19_deaths_global.csv')\n",
    "        self.recovered = pd.read_csv('https://raw.githubusercontent.com/CSSEGISandData/COVID-19/master/csse_covid_19_data/csse_covid_19_time_series/time_series_covid19_recovered_global.csv')\n",
    "        self.PreparaData()\n",
    "\n",
    "    def PreparaData(self):\n",
    "        confirmedPortugal = self.confirmed[ self.confirmed['Country/Region'] != self.country].index\n",
    "        self.confirmed.drop(confirmedPortugal , inplace=True)\n",
    "        deathsPortugal = self.deaths[ self.deaths['Country/Region'] != self.country].index\n",
    "        self.deaths.drop(deathsPortugal , inplace=True)\n",
    "        recoveredPortugal = self.recovered[ self.recovered['Country/Region'] != self.country].index\n",
    "        self.recovered.drop(recoveredPortugal , inplace=True)\n",
    "        self.confirmed = self.confirmed.drop(columns=['Province/State','Country/Region','Lat','Long'])\n",
    "        self.deaths = self.deaths.drop(columns=['Province/State','Country/Region','Lat','Long'])\n",
    "        self.recovered = self.recovered.drop(columns=['Province/State','Country/Region','Lat','Long'])\n",
    "        timesteps = []\n",
    "        total_infetados = []\n",
    "        total_Days = []\n",
    "        total_Deaths = []\n",
    "        total_Recovered = []\n",
    "        daily_deaths=[]\n",
    "        daily_cases=[]\n",
    "        self.new_dataset = pd.DataFrame()\n",
    "        Ground_Zero = dt.strptime('12/31/19','%m/%d/%y')\n",
    "        for cols in self.confirmed.columns:\n",
    "            timesteps.append(cols)\n",
    "            total_infetados.append(self.confirmed[cols].sum())\n",
    "            current_date = dt.strptime(cols,'%m/%d/%y')\n",
    "            days_Gone = current_date - Ground_Zero\n",
    "            total_Days.append(int(days_Gone.days))\n",
    "            daily_cases.append(self.confirmed[cols].sum()-sum(daily_cases))\n",
    "        for cols in self.deaths.columns:\n",
    "            total_Deaths.append(self.deaths[cols].sum())\n",
    "            daily_deaths.append(self.deaths[cols].sum()-sum(daily_deaths))\n",
    "        for cols in self.recovered.columns:\n",
    "            total_Recovered.append(self.recovered[cols].sum())\n",
    "        self.new_dataset['Total_Cases'] = total_infetados\n",
    "        self.new_dataset['Total_Recovered'] = total_Recovered\n",
    "        self.new_dataset['Total_Deaths'] = total_Deaths\n",
    "        self.new_dataset['Days_Gone'] = total_Days\n",
    "        self.new_dataset['Daily_Deaths'] = daily_deaths\n",
    "        self.new_dataset['Daily_Cases'] = daily_cases\n",
    "        pd.DataFrame.to_csv(self.new_dataset,'Dados/new_dataset.csv',index=False)"
   ]
  },
  {
   "cell_type": "code",
   "execution_count": 16,
   "metadata": {},
   "outputs": [],
   "source": [
    "dados = Data('Portugal')"
   ]
  },
  {
   "cell_type": "code",
   "execution_count": 17,
   "metadata": {},
   "outputs": [
    {
     "data": {
      "text/html": [
       "<div>\n",
       "<style scoped>\n",
       "    .dataframe tbody tr th:only-of-type {\n",
       "        vertical-align: middle;\n",
       "    }\n",
       "\n",
       "    .dataframe tbody tr th {\n",
       "        vertical-align: top;\n",
       "    }\n",
       "\n",
       "    .dataframe thead th {\n",
       "        text-align: right;\n",
       "    }\n",
       "</style>\n",
       "<table border=\"1\" class=\"dataframe\">\n",
       "  <thead>\n",
       "    <tr style=\"text-align: right;\">\n",
       "      <th></th>\n",
       "      <th>Total_Cases</th>\n",
       "      <th>Total_Recovered</th>\n",
       "      <th>Total_Deaths</th>\n",
       "      <th>Days_Gone</th>\n",
       "      <th>Daily_Deaths</th>\n",
       "      <th>Daily_Cases</th>\n",
       "    </tr>\n",
       "  </thead>\n",
       "  <tbody>\n",
       "    <tr>\n",
       "      <th>0</th>\n",
       "      <td>0</td>\n",
       "      <td>0</td>\n",
       "      <td>0</td>\n",
       "      <td>22</td>\n",
       "      <td>0</td>\n",
       "      <td>0</td>\n",
       "    </tr>\n",
       "    <tr>\n",
       "      <th>1</th>\n",
       "      <td>0</td>\n",
       "      <td>0</td>\n",
       "      <td>0</td>\n",
       "      <td>23</td>\n",
       "      <td>0</td>\n",
       "      <td>0</td>\n",
       "    </tr>\n",
       "    <tr>\n",
       "      <th>2</th>\n",
       "      <td>0</td>\n",
       "      <td>0</td>\n",
       "      <td>0</td>\n",
       "      <td>24</td>\n",
       "      <td>0</td>\n",
       "      <td>0</td>\n",
       "    </tr>\n",
       "    <tr>\n",
       "      <th>3</th>\n",
       "      <td>0</td>\n",
       "      <td>0</td>\n",
       "      <td>0</td>\n",
       "      <td>25</td>\n",
       "      <td>0</td>\n",
       "      <td>0</td>\n",
       "    </tr>\n",
       "    <tr>\n",
       "      <th>4</th>\n",
       "      <td>0</td>\n",
       "      <td>0</td>\n",
       "      <td>0</td>\n",
       "      <td>26</td>\n",
       "      <td>0</td>\n",
       "      <td>0</td>\n",
       "    </tr>\n",
       "    <tr>\n",
       "      <th>...</th>\n",
       "      <td>...</td>\n",
       "      <td>...</td>\n",
       "      <td>...</td>\n",
       "      <td>...</td>\n",
       "      <td>...</td>\n",
       "      <td>...</td>\n",
       "    </tr>\n",
       "    <tr>\n",
       "      <th>142</th>\n",
       "      <td>36180</td>\n",
       "      <td>22200</td>\n",
       "      <td>1505</td>\n",
       "      <td>164</td>\n",
       "      <td>1</td>\n",
       "      <td>270</td>\n",
       "    </tr>\n",
       "    <tr>\n",
       "      <th>143</th>\n",
       "      <td>36463</td>\n",
       "      <td>22438</td>\n",
       "      <td>1512</td>\n",
       "      <td>165</td>\n",
       "      <td>7</td>\n",
       "      <td>283</td>\n",
       "    </tr>\n",
       "    <tr>\n",
       "      <th>144</th>\n",
       "      <td>36690</td>\n",
       "      <td>22669</td>\n",
       "      <td>1517</td>\n",
       "      <td>166</td>\n",
       "      <td>5</td>\n",
       "      <td>227</td>\n",
       "    </tr>\n",
       "    <tr>\n",
       "      <th>145</th>\n",
       "      <td>37036</td>\n",
       "      <td>22852</td>\n",
       "      <td>1520</td>\n",
       "      <td>167</td>\n",
       "      <td>3</td>\n",
       "      <td>346</td>\n",
       "    </tr>\n",
       "    <tr>\n",
       "      <th>146</th>\n",
       "      <td>37336</td>\n",
       "      <td>23212</td>\n",
       "      <td>1522</td>\n",
       "      <td>168</td>\n",
       "      <td>2</td>\n",
       "      <td>300</td>\n",
       "    </tr>\n",
       "  </tbody>\n",
       "</table>\n",
       "<p>147 rows × 6 columns</p>\n",
       "</div>"
      ],
      "text/plain": [
       "     Total_Cases  Total_Recovered  Total_Deaths  Days_Gone  Daily_Deaths  \\\n",
       "0              0                0             0         22             0   \n",
       "1              0                0             0         23             0   \n",
       "2              0                0             0         24             0   \n",
       "3              0                0             0         25             0   \n",
       "4              0                0             0         26             0   \n",
       "..           ...              ...           ...        ...           ...   \n",
       "142        36180            22200          1505        164             1   \n",
       "143        36463            22438          1512        165             7   \n",
       "144        36690            22669          1517        166             5   \n",
       "145        37036            22852          1520        167             3   \n",
       "146        37336            23212          1522        168             2   \n",
       "\n",
       "     Daily_Cases  \n",
       "0              0  \n",
       "1              0  \n",
       "2              0  \n",
       "3              0  \n",
       "4              0  \n",
       "..           ...  \n",
       "142          270  \n",
       "143          283  \n",
       "144          227  \n",
       "145          346  \n",
       "146          300  \n",
       "\n",
       "[147 rows x 6 columns]"
      ]
     },
     "execution_count": 17,
     "metadata": {},
     "output_type": "execute_result"
    }
   ],
   "source": [
    "dados.new_dataset"
   ]
  },
  {
   "cell_type": "code",
   "execution_count": 254,
   "metadata": {},
   "outputs": [],
   "source": [
    "class Linear_Regression():\n",
    "    def __init__(self,data):\n",
    "        self.dataset = data\n",
    "        self.dataset = np.asarray(self.dataset)\n",
    "        #self.NormalizeData()\n",
    "        self.PrepareData()\n",
    "        self.Fit()\n",
    "        \n",
    "    def PrepareData(self):\n",
    "        self.x_train, self.x_test,self.y_train, self.y_test = train_test_split(self.dataset[:,3],self.dataset[:,5], test_size=0.10)\n",
    "    def Fit(self):\n",
    "        \n",
    "        #self.ridge = linear_model.Ridge(alpha=.001,max_iter=1000)\n",
    "        #self.ridge.fit(np.reshape(self.x_train,(-1,1)), self.y_train)\n",
    "        \n",
    "        self.lasso = linear_model.Lasso(alpha=0.1,max_iter=20000)\n",
    "        self.lasso.fit(np.reshape(self.x_train,(-1,1)), self.y_train)\n",
    "        \n",
    "        \n",
    "        #self.regressor = LinearRegression()  \n",
    "        #self.regressor.fit(np.reshape(self.x_train,(-1,1)),self.y_train) #training the algorithm\n",
    "    def NormalizeData(self):\n",
    "        self.scaler = MinMaxScaler(feature_range=(-1, 1))\n",
    "        self.dataset = self.scaler.fit_transform(self.dataset)\n",
    "        #print(self.normalized)\n",
    "    def ComparePredictions(self):\n",
    "        y_pred = self.lasso.predict(np.reshape(self.x_test,(-1,1)))\n",
    "        count = 0\n",
    "        test = np.asarray(self.y_test)\n",
    "        for i in y_pred:\n",
    "            print('Predicted:' + str(i)+ '===== Real:' +str(test[count]) )\n",
    "            count +=1\n",
    "        print('Mean Absolute Error:', metrics.mean_absolute_error(self.y_test, y_pred))\n",
    "        #print('Mean Squared Error:', metrics.mean_squared_error(self.y_test, y_pred))\n",
    "\n"
   ]
  },
  {
   "cell_type": "code",
   "execution_count": 255,
   "metadata": {},
   "outputs": [],
   "source": [
    "Model = Linear_Regression(dados.new_dataset)"
   ]
  },
  {
   "cell_type": "code",
   "execution_count": 256,
   "metadata": {},
   "outputs": [
    {
     "data": {
      "text/plain": [
       "0.18907031258058904"
      ]
     },
     "execution_count": 256,
     "metadata": {},
     "output_type": "execute_result"
    }
   ],
   "source": [
    "\n",
    "                             \n",
    "Model.lasso.score(np.reshape(Model.x_train,(-1,1)),np.reshape(Model.y_train,(-1,1)))"
   ]
  },
  {
   "cell_type": "code",
   "execution_count": 257,
   "metadata": {},
   "outputs": [
    {
     "name": "stdout",
     "output_type": "stream",
     "text": [
      "Predicted:45.70019213032906===== Real:0\n",
      "Predicted:468.58910403993957===== Real:300\n",
      "Predicted:165.27567756683962===== Real:3\n",
      "Predicted:343.18066809433094===== Real:242\n",
      "Predicted:115.69559823950598===== Real:0\n",
      "Predicted:401.5101731853117===== Real:152\n",
      "Predicted:448.17377725809627===== Real:421\n",
      "Predicted:238.1875589305656===== Real:792\n",
      "Predicted:331.51476707613483===== Real:540\n",
      "Predicted:328.5982918215857===== Real:183\n",
      "Predicted:421.9254999671549===== Real:297\n",
      "Predicted:366.5124701307233===== Real:234\n",
      "Predicted:413.1760742035078===== Real:304\n",
      "Predicted:258.6028857124088===== Real:754\n",
      "Predicted:410.2595989489588===== Real:285\n",
      "Mean Absolute Error: 184.3527942578116\n"
     ]
    }
   ],
   "source": [
    "Model.ComparePredictions()"
   ]
  },
  {
   "cell_type": "code",
   "execution_count": 237,
   "metadata": {},
   "outputs": [
    {
     "data": {
      "text/plain": [
       "array([   0,    0,    0,    0, -161,  371,    0,   76,  553,  310,    0,\n",
       "        257,  516,    0,    0], dtype=int64)"
      ]
     },
     "execution_count": 237,
     "metadata": {},
     "output_type": "execute_result"
    }
   ],
   "source": [
    "Model.y_test"
   ]
  },
  {
   "cell_type": "code",
   "execution_count": 166,
   "metadata": {},
   "outputs": [
    {
     "data": {
      "text/plain": [
       "array([ 94,  75, 102,  89,  85,  51,  24, 161,  52,  64,  29,  78, 167,\n",
       "        58,  59], dtype=int64)"
      ]
     },
     "execution_count": 166,
     "metadata": {},
     "output_type": "execute_result"
    }
   ],
   "source": [
    "Model.x_test"
   ]
  },
  {
   "cell_type": "code",
   "execution_count": null,
   "metadata": {},
   "outputs": [],
   "source": []
  },
  {
   "cell_type": "code",
   "execution_count": null,
   "metadata": {},
   "outputs": [],
   "source": []
  }
 ],
 "metadata": {
  "kernelspec": {
   "display_name": "Python 3",
   "language": "python",
   "name": "python3"
  },
  "language_info": {
   "codemirror_mode": {
    "name": "ipython",
    "version": 3
   },
   "file_extension": ".py",
   "mimetype": "text/x-python",
   "name": "python",
   "nbconvert_exporter": "python",
   "pygments_lexer": "ipython3",
   "version": "3.7.7"
  }
 },
 "nbformat": 4,
 "nbformat_minor": 4
}
