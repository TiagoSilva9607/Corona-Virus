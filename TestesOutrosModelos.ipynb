{
 "cells": [
  {
   "cell_type": "code",
   "execution_count": 281,
   "metadata": {},
   "outputs": [],
   "source": [
    "import pandas as pd\n",
    "import numpy as np\n",
    "from datetime import datetime as dt\n",
    "from sklearn.model_selection import train_test_split \n",
    "from sklearn import linear_model\n",
    "from sklearn import metrics\n",
    "from sklearn.preprocessing import MinMaxScaler\n",
    "import matplotlib.pyplot as plt  \n",
    "from sklearn.model_selection import cross_val_score\n",
    "from datetime import datetime, date\n",
    "import calendar"
   ]
  },
  {
   "cell_type": "code",
   "execution_count": 2,
   "metadata": {},
   "outputs": [],
   "source": [
    "confirmed_cases = pd.read_csv('https://raw.githubusercontent.com/CSSEGISandData/COVID-19/master/csse_covid_19_data/csse_covid_19_time_series/time_series_covid19_confirmed_global.csv')\n",
    "confirmed_deaths = pd.read_csv('https://raw.githubusercontent.com/CSSEGISandData/COVID-19/master/csse_covid_19_data/csse_covid_19_time_series/time_series_covid19_deaths_global.csv')\n",
    "confirmed_recovered = pd.read_csv('https://raw.githubusercontent.com/CSSEGISandData/COVID-19/master/csse_covid_19_data/csse_covid_19_time_series/time_series_covid19_recovered_global.csv')"
   ]
  },
  {
   "cell_type": "code",
   "execution_count": 267,
   "metadata": {},
   "outputs": [],
   "source": [
    "class Data():\n",
    "    def __init__(self,country):\n",
    "        self.country = country\n",
    "        self.confirmed = pd.read_csv('https://raw.githubusercontent.com/CSSEGISandData/COVID-19/master/csse_covid_19_data/csse_covid_19_time_series/time_series_covid19_confirmed_global.csv')\n",
    "        self.deaths = pd.read_csv('https://raw.githubusercontent.com/CSSEGISandData/COVID-19/master/csse_covid_19_data/csse_covid_19_time_series/time_series_covid19_deaths_global.csv')\n",
    "        self.recovered = pd.read_csv('https://raw.githubusercontent.com/CSSEGISandData/COVID-19/master/csse_covid_19_data/csse_covid_19_time_series/time_series_covid19_recovered_global.csv')\n",
    "        if(country == \"World Wide\"):\n",
    "            self.PreparaDataGlobal()\n",
    "        else:\n",
    "            self.PreparaData()\n",
    "\n",
    "    def PreparaData(self):\n",
    "        confirmedPortugal = self.confirmed[ self.confirmed['Country/Region'] != self.country].index\n",
    "        self.confirmed.drop(confirmedPortugal , inplace=True)\n",
    "        deathsPortugal = self.deaths[ self.deaths['Country/Region'] != self.country].index\n",
    "        self.deaths.drop(deathsPortugal , inplace=True)\n",
    "        recoveredPortugal = self.recovered[ self.recovered['Country/Region'] != self.country].index\n",
    "        self.recovered.drop(recoveredPortugal , inplace=True)\n",
    "        self.confirmed = self.confirmed.drop(columns=['Province/State','Country/Region','Lat','Long'])\n",
    "        self.deaths = self.deaths.drop(columns=['Province/State','Country/Region','Lat','Long'])\n",
    "        self.recovered = self.recovered.drop(columns=['Province/State','Country/Region','Lat','Long'])\n",
    "        timesteps = []\n",
    "        total_infetados = []\n",
    "        total_Days = []\n",
    "        total_Deaths = []\n",
    "        total_Recovered = []\n",
    "        daily_deaths=[]\n",
    "        daily_cases=[]\n",
    "        day_of_week=[]\n",
    "        self.new_dataset = pd.DataFrame()\n",
    "        Ground_Zero = dt.strptime('12/31/19','%m/%d/%y')\n",
    "        for cols in self.confirmed.columns:\n",
    "            timesteps.append(cols)\n",
    "            total_infetados.append(self.confirmed[cols].sum())\n",
    "            current_date = dt.strptime(cols,'%m/%d/%y')\n",
    "            day_of_week.append(current_date.weekday())\n",
    "            days_Gone = current_date - Ground_Zero\n",
    "            total_Days.append(int(days_Gone.days))\n",
    "            daily_cases.append(self.confirmed[cols].sum()-sum(daily_cases))\n",
    "        for cols in self.deaths.columns:\n",
    "            total_Deaths.append(self.deaths[cols].sum())\n",
    "            daily_deaths.append(self.deaths[cols].sum()-sum(daily_deaths))\n",
    "        for cols in self.recovered.columns:\n",
    "            total_Recovered.append(self.recovered[cols].sum())\n",
    "        self.new_dataset['Total_Cases'] = total_infetados\n",
    "        self.new_dataset['Daily_Cases'] = daily_cases\n",
    "        self.new_dataset['WeekDay'] = day_of_week\n",
    "        self.new_dataset['Daily_Deaths'] = daily_deaths\n",
    "        self.new_dataset['Total_Recovered'] = total_Recovered\n",
    "        self.new_dataset['Total_Deaths'] = total_Deaths\n",
    "        self.new_dataset['Days_Gone'] = total_Days\n",
    "        pd.DataFrame.to_csv(self.new_dataset,'Dados/new_dataset.csv',index=False)\n",
    "    def PreparaDataGlobal(self):\n",
    "        self.confirmed = self.confirmed.drop(columns=['Province/State','Country/Region','Lat','Long'])\n",
    "        self.deaths = self.deaths.drop(columns=['Province/State','Country/Region','Lat','Long'])\n",
    "        self.recovered = self.recovered.drop(columns=['Province/State','Country/Region','Lat','Long'])\n",
    "        timesteps = []\n",
    "        total_infetados = []\n",
    "        total_Days = []\n",
    "        total_Deaths = []\n",
    "        total_Recovered = []\n",
    "        self.new_dataset = pd.DataFrame()\n",
    "        Ground_Zero = dt.strptime('12/31/19','%m/%d/%y')\n",
    "        for cols in self.confirmed.columns:\n",
    "            timesteps.append(cols)\n",
    "            total_infetados.append(self.confirmed[cols].sum())\n",
    "            current_date = dt.strptime(cols,'%m/%d/%y')\n",
    "            days_Gone = current_date - Ground_Zero\n",
    "            total_Days.append(int(days_Gone.days))\n",
    "        for cols in self.deaths.columns:\n",
    "            total_Deaths.append(self.deaths[cols].sum())\n",
    "        for cols in self.recovered.columns:\n",
    "            total_Recovered.append(self.recovered[cols].sum())\n",
    "        self.new_dataset['Total_Cases'] = total_infetados\n",
    "        self.new_dataset['Total_Recovered'] = total_Recovered\n",
    "        self.new_dataset['Total_Deaths'] = total_Deaths\n",
    "        self.new_dataset['Days_Gone'] = total_Days\n",
    "        pd.DataFrame.to_csv(self.new_dataset,'Dados/new_dataset.csv',index=False)"
   ]
  },
  {
   "cell_type": "code",
   "execution_count": 297,
   "metadata": {},
   "outputs": [],
   "source": [
    "dados = Data('US')"
   ]
  },
  {
   "cell_type": "code",
   "execution_count": 298,
   "metadata": {},
   "outputs": [
    {
     "data": {
      "text/html": [
       "<div>\n",
       "<style scoped>\n",
       "    .dataframe tbody tr th:only-of-type {\n",
       "        vertical-align: middle;\n",
       "    }\n",
       "\n",
       "    .dataframe tbody tr th {\n",
       "        vertical-align: top;\n",
       "    }\n",
       "\n",
       "    .dataframe thead th {\n",
       "        text-align: right;\n",
       "    }\n",
       "</style>\n",
       "<table border=\"1\" class=\"dataframe\">\n",
       "  <thead>\n",
       "    <tr style=\"text-align: right;\">\n",
       "      <th></th>\n",
       "      <th>Total_Cases</th>\n",
       "      <th>Daily_Cases</th>\n",
       "      <th>WeekDay</th>\n",
       "      <th>Daily_Deaths</th>\n",
       "      <th>Total_Recovered</th>\n",
       "      <th>Total_Deaths</th>\n",
       "      <th>Days_Gone</th>\n",
       "    </tr>\n",
       "  </thead>\n",
       "  <tbody>\n",
       "    <tr>\n",
       "      <th>0</th>\n",
       "      <td>1</td>\n",
       "      <td>1</td>\n",
       "      <td>2</td>\n",
       "      <td>0</td>\n",
       "      <td>0</td>\n",
       "      <td>0</td>\n",
       "      <td>22</td>\n",
       "    </tr>\n",
       "    <tr>\n",
       "      <th>1</th>\n",
       "      <td>1</td>\n",
       "      <td>0</td>\n",
       "      <td>3</td>\n",
       "      <td>0</td>\n",
       "      <td>0</td>\n",
       "      <td>0</td>\n",
       "      <td>23</td>\n",
       "    </tr>\n",
       "    <tr>\n",
       "      <th>2</th>\n",
       "      <td>2</td>\n",
       "      <td>1</td>\n",
       "      <td>4</td>\n",
       "      <td>0</td>\n",
       "      <td>0</td>\n",
       "      <td>0</td>\n",
       "      <td>24</td>\n",
       "    </tr>\n",
       "    <tr>\n",
       "      <th>3</th>\n",
       "      <td>2</td>\n",
       "      <td>0</td>\n",
       "      <td>5</td>\n",
       "      <td>0</td>\n",
       "      <td>0</td>\n",
       "      <td>0</td>\n",
       "      <td>25</td>\n",
       "    </tr>\n",
       "    <tr>\n",
       "      <th>4</th>\n",
       "      <td>5</td>\n",
       "      <td>3</td>\n",
       "      <td>6</td>\n",
       "      <td>0</td>\n",
       "      <td>0</td>\n",
       "      <td>0</td>\n",
       "      <td>26</td>\n",
       "    </tr>\n",
       "    <tr>\n",
       "      <th>...</th>\n",
       "      <td>...</td>\n",
       "      <td>...</td>\n",
       "      <td>...</td>\n",
       "      <td>...</td>\n",
       "      <td>...</td>\n",
       "      <td>...</td>\n",
       "      <td>...</td>\n",
       "    </tr>\n",
       "    <tr>\n",
       "      <th>145</th>\n",
       "      <td>2114026</td>\n",
       "      <td>19968</td>\n",
       "      <td>0</td>\n",
       "      <td>395</td>\n",
       "      <td>576334</td>\n",
       "      <td>116127</td>\n",
       "      <td>167</td>\n",
       "    </tr>\n",
       "    <tr>\n",
       "      <th>146</th>\n",
       "      <td>2137731</td>\n",
       "      <td>23705</td>\n",
       "      <td>1</td>\n",
       "      <td>836</td>\n",
       "      <td>583503</td>\n",
       "      <td>116963</td>\n",
       "      <td>168</td>\n",
       "    </tr>\n",
       "    <tr>\n",
       "      <th>147</th>\n",
       "      <td>2163290</td>\n",
       "      <td>25559</td>\n",
       "      <td>2</td>\n",
       "      <td>754</td>\n",
       "      <td>592191</td>\n",
       "      <td>117717</td>\n",
       "      <td>169</td>\n",
       "    </tr>\n",
       "    <tr>\n",
       "      <th>148</th>\n",
       "      <td>2191052</td>\n",
       "      <td>27762</td>\n",
       "      <td>3</td>\n",
       "      <td>717</td>\n",
       "      <td>599115</td>\n",
       "      <td>118434</td>\n",
       "      <td>170</td>\n",
       "    </tr>\n",
       "    <tr>\n",
       "      <th>149</th>\n",
       "      <td>2220961</td>\n",
       "      <td>29909</td>\n",
       "      <td>4</td>\n",
       "      <td>678</td>\n",
       "      <td>606715</td>\n",
       "      <td>119112</td>\n",
       "      <td>171</td>\n",
       "    </tr>\n",
       "  </tbody>\n",
       "</table>\n",
       "<p>150 rows × 7 columns</p>\n",
       "</div>"
      ],
      "text/plain": [
       "     Total_Cases  Daily_Cases  WeekDay  Daily_Deaths  Total_Recovered  \\\n",
       "0              1            1        2             0                0   \n",
       "1              1            0        3             0                0   \n",
       "2              2            1        4             0                0   \n",
       "3              2            0        5             0                0   \n",
       "4              5            3        6             0                0   \n",
       "..           ...          ...      ...           ...              ...   \n",
       "145      2114026        19968        0           395           576334   \n",
       "146      2137731        23705        1           836           583503   \n",
       "147      2163290        25559        2           754           592191   \n",
       "148      2191052        27762        3           717           599115   \n",
       "149      2220961        29909        4           678           606715   \n",
       "\n",
       "     Total_Deaths  Days_Gone  \n",
       "0               0         22  \n",
       "1               0         23  \n",
       "2               0         24  \n",
       "3               0         25  \n",
       "4               0         26  \n",
       "..            ...        ...  \n",
       "145        116127        167  \n",
       "146        116963        168  \n",
       "147        117717        169  \n",
       "148        118434        170  \n",
       "149        119112        171  \n",
       "\n",
       "[150 rows x 7 columns]"
      ]
     },
     "execution_count": 298,
     "metadata": {},
     "output_type": "execute_result"
    }
   ],
   "source": [
    "dados.new_dataset=dados.new_dataset[dados.new_dataset['Total_Cases']>0]\n",
    "dados.new_dataset"
   ]
  },
  {
   "cell_type": "code",
   "execution_count": 299,
   "metadata": {},
   "outputs": [],
   "source": [
    "class Linear_Regression():\n",
    "    def __init__(self,data):\n",
    "        self.dataset = data\n",
    "        self.dataset = np.asarray(self.dataset)\n",
    "        #self.NormalizeData()\n",
    "        self.PrepareData()\n",
    "        self.Fit()\n",
    "        \n",
    "    def PrepareData(self):\n",
    "        self.x_train, self.x_test,self.y_train, self.y_test = train_test_split(self.dataset[:,-1],self.dataset[:,0], test_size=0.1)\n",
    "    def Fit(self):\n",
    "        \n",
    "        #self.ridge = linear_model.Ridge(alpha=.001,max_iter=1000)\n",
    "        #self.ridge.fit(np.reshape(self.x_train,(-1,1)), self.y_train)\n",
    "        \n",
    "        self.lasso = linear_model.Lasso(alpha=1,max_iter=2000)\n",
    "        self.lasso.fit(np.reshape(self.x_train,(-1,1)), self.y_train)\n",
    "        \n",
    "        \n",
    "        #self.regressor = LinearRegression()  \n",
    "        #self.regressor.fit(np.reshape(self.x_train,(-1,1)),self.y_train) #training the algorithm\n",
    "    def NormalizeData(self):\n",
    "        self.scaler = MinMaxScaler(feature_range=(-1, 1))\n",
    "        self.dataset = self.scaler.fit_transform(self.dataset)\n",
    "        #print(self.normalized)\n",
    "    def ComparePredictions(self):\n",
    "        self.y_pred = self.lasso.predict(np.reshape(self.x_test,(-1,1)))\n",
    "        count = 0\n",
    "        test = np.asarray(self.y_test)\n",
    "        for i in self.y_pred:\n",
    "            print('Predicted:' + str(i)+ '===== Real:' +str(test[count]) )\n",
    "            count +=1\n",
    "        print('Mean Absolute Error:', metrics.mean_absolute_error(self.y_test, self.y_pred))\n",
    "        #print('Mean Squared Error:', metrics.mean_squared_error(self.y_test, y_pred))\n",
    "\n"
   ]
  },
  {
   "cell_type": "code",
   "execution_count": 300,
   "metadata": {},
   "outputs": [],
   "source": [
    "Model = Linear_Regression(dados.new_dataset)"
   ]
  },
  {
   "cell_type": "code",
   "execution_count": 301,
   "metadata": {},
   "outputs": [
    {
     "data": {
      "text/plain": [
       "0.8874987618298936"
      ]
     },
     "execution_count": 301,
     "metadata": {},
     "output_type": "execute_result"
    }
   ],
   "source": [
    "\n",
    "                             \n",
    "Model.lasso.score(np.reshape(Model.x_train,(-1,1)),np.reshape(Model.y_train,(-1,1)))"
   ]
  },
  {
   "cell_type": "code",
   "execution_count": 302,
   "metadata": {},
   "outputs": [
    {
     "name": "stdout",
     "output_type": "stream",
     "text": [
      "Predicted:1799594.0639681597===== Real:2023590\n",
      "Predicted:1300267.0633972245===== Real:1374914\n",
      "Predicted:318257.2956077189===== Real:2870\n",
      "Predicted:1633151.7304445147===== Real:1816476\n",
      "Predicted:218391.89549353183===== Real:451\n",
      "Predicted:1017315.0964070279===== Real:940829\n",
      "Predicted:-513954.37201050634===== Real:2\n",
      "Predicted:1400132.4635114116===== Real:1514839\n",
      "Predicted:-181069.7049632162===== Real:13\n",
      "Predicted:-497310.13865814183===== Real:2\n",
      "Predicted:235036.12884589634===== Real:519\n",
      "Predicted:-64560.07149666478===== Real:13\n",
      "Predicted:334901.5289600834===== Real:2968\n",
      "Predicted:1266978.5966924955===== Real:1334084\n",
      "Predicted:534632.3291884575===== Real:102254\n",
      "Mean Absolute Error: 235289.77624116253\n"
     ]
    }
   ],
   "source": [
    "Model.ComparePredictions()"
   ]
  },
  {
   "cell_type": "code",
   "execution_count": 303,
   "metadata": {},
   "outputs": [
    {
     "data": {
      "image/png": "[encoded data removed]",
      "text/plain": [
       "<Figure size 1152x720 with 1 Axes>"
      ]
     },
     "metadata": {
      "needs_background": "light"
     },
     "output_type": "display_data"
    }
   ],
   "source": [
    "df = pd.DataFrame({'Actual': Model.y_test.flatten(), 'Predicted': Model.y_pred.flatten()})\n",
    "df\n",
    "\n",
    "df1 = df.head(25)\n",
    "df1.plot(kind='bar',figsize=(16,10))\n",
    "plt.grid(which='major', linestyle='-', linewidth='0.5', color='green')\n",
    "plt.grid(which='minor', linestyle=':', linewidth='0.5', color='black')\n",
    "plt.show()"
   ]
  },
  {
   "cell_type": "code",
   "execution_count": 304,
   "metadata": {},
   "outputs": [
    {
     "data": {
      "text/plain": [
       "array([2023590, 1374914,    2870, 1816476,     451,  940829,       2,\n",
       "       1514839,      13,       2,     519,      13,    2968, 1334084,\n",
       "        102254], dtype=int64)"
      ]
     },
     "execution_count": 304,
     "metadata": {},
     "output_type": "execute_result"
    }
   ],
   "source": [
    "Model.y_test"
   ]
  },
  {
   "cell_type": "code",
   "execution_count": 305,
   "metadata": {},
   "outputs": [
    {
     "data": {
      "image/png": "[encoded data removed]",
      "text/plain": [
       "<Figure size 432x288 with 1 Axes>"
      ]
     },
     "metadata": {
      "needs_background": "light"
     },
     "output_type": "display_data"
    }
   ],
   "source": [
    "plt.scatter(Model.x_test, Model.y_test,  color='gray')\n",
    "plt.plot(Model.x_test, Model.y_pred, color='red', linewidth=2)\n",
    "plt.title('Previsão Vs Real')\n",
    "plt.show()"
   ]
  },
  {
   "cell_type": "code",
   "execution_count": 306,
   "metadata": {},
   "outputs": [
    {
     "data": {
      "image/png": "[encoded data removed]",
      "text/plain": [
       "<Figure size 432x288 with 1 Axes>"
      ]
     },
     "metadata": {
      "needs_background": "light"
     },
     "output_type": "display_data"
    }
   ],
   "source": [
    "df_totalCases= dados.new_dataset.groupby('WeekDay').mean()\n",
    "df_totalCases=df_totalCases['Daily_Cases']\n",
    "dia = []\n",
    "for i in range(0,7):\n",
    "    dia = dia + [str(calendar.day_name[i])]\n",
    "df_totalCases.index=dia\n",
    "df_totalCases\n",
    "def Grafico_SpeedDiff_por_dia(df):\n",
    "    fig, ax = plt.subplots()\n",
    "    plt.bar(df.index, df, align='center', alpha=0.7)\n",
    "    \n",
    "    plt.title('Média Speed Diff por dia \\n')\n",
    "    plt.ylabel(\"Speed Diff\")\n",
    "    plt.xticks(rotation=45)\n",
    "    plt.show()\n",
    "    #fig.savefig(\"Imagens/Speed_Diff_Dia.png\")\n",
    "\n",
    "Grafico_SpeedDiff_por_dia(df_totalCases)"
   ]
  },
  {
   "cell_type": "code",
   "execution_count": 307,
   "metadata": {},
   "outputs": [
    {
     "data": {
      "text/plain": [
       "WeekDay\n",
       "0    13078.238095\n",
       "1    14013.000000\n",
       "2    14171.227273\n",
       "3    16364.227273\n",
       "4    17021.227273\n",
       "5    15510.952381\n",
       "6    13336.571429\n",
       "Name: Daily_Cases, dtype: float64"
      ]
     },
     "execution_count": 307,
     "metadata": {},
     "output_type": "execute_result"
    }
   ],
   "source": [
    "df_totalCases= dados.new_dataset.groupby('WeekDay').mean()\n",
    "df_totalCases=df_totalCases['Daily_Cases']\n",
    "df_totalCases"
   ]
  },
  {
   "cell_type": "code",
   "execution_count": null,
   "metadata": {},
   "outputs": [],
   "source": []
  }
 ],
 "metadata": {
  "kernelspec": {
   "display_name": "Python 3",
   "language": "python",
   "name": "python3"
  },
  "language_info": {
   "codemirror_mode": {
    "name": "ipython",
    "version": 3
   },
   "file_extension": ".py",
   "mimetype": "text/x-python",
   "name": "python",
   "nbconvert_exporter": "python",
   "pygments_lexer": "ipython3",
   "version": "3.7.7"
  }
 },
 "nbformat": 4,
 "nbformat_minor": 4
}
