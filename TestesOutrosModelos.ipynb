{
 "cells": [
  {
   "cell_type": "code",
   "execution_count": 1,
   "metadata": {},
   "outputs": [],
   "source": [
    "import pandas as pd\n",
    "import numpy as np\n",
    "from datetime import datetime as dt\n",
    "from sklearn.model_selection import train_test_split \n",
    "from sklearn import linear_model\n",
    "from sklearn import metrics\n",
    "from sklearn.preprocessing import MinMaxScaler\n",
    "import matplotlib.pyplot as plt  \n",
    "from sklearn.model_selection import cross_val_score\n",
    "from datetime import datetime, date\n",
    "import calendar"
   ]
  },
  {
   "cell_type": "code",
   "execution_count": 40,
   "metadata": {},
   "outputs": [],
   "source": [
    "confirmed_cases = pd.read_csv('https://raw.githubusercontent.com/CSSEGISandData/COVID-19/master/csse_covid_19_data/csse_covid_19_time_series/time_series_covid19_confirmed_global.csv')\n",
    "confirmed_deaths = pd.read_csv('https://raw.githubusercontent.com/CSSEGISandData/COVID-19/master/csse_covid_19_data/csse_covid_19_time_series/time_series_covid19_deaths_global.csv')\n",
    "confirmed_recovered = pd.read_csv('https://raw.githubusercontent.com/CSSEGISandData/COVID-19/master/csse_covid_19_data/csse_covid_19_time_series/time_series_covid19_recovered_global.csv')\n"
   ]
  },
  {
   "cell_type": "markdown",
   "metadata": {},
   "source": [
    "# Data preparation\n",
    "\n",
    "Na preparação dos dados decidimos trabalhar com as três variáveis obtidas dos datasets anteriores( 'Total_Cases', 'Total_Recovered' e 'Total_Deaths') para além disso decidimos criar algumas variáveis: \n",
    "\n",
    "- Days-Gone - Número de dias desde o inicio da pandemia.\n",
    "- Daily_Cases - Número de casos diários no país ou no mundo.\n",
    "- Daily_Deaths - Número de mortes diárias no país ou no mundo.\n",
    "- WeekDay - Dia da semana \n",
    "\n",
    "'Daily_Cases' e 'Daily_Deaths' foram criados para testar se a previsão era melhor com os casos totais ou com os casos diários.\n",
    "\n",
    "A variável 'WeekDay' foi criada com o intuito de separar os dias da semana dos fins de semana visto que o valor de casos é inferior durante o fim de semana devido a stiuações diversas entre os vários países. Gráfico onde é comparado os casos nos diferentes dias da semana é realizado no final do notebook.\n"
   ]
  },
  {
   "cell_type": "code",
   "execution_count": 3,
   "metadata": {},
   "outputs": [],
   "source": [
    "class Data():\n",
    "    def __init__(self,country):\n",
    "        self.country = country\n",
    "        self.confirmed = pd.read_csv('https://raw.githubusercontent.com/CSSEGISandData/COVID-19/master/csse_covid_19_data/csse_covid_19_time_series/time_series_covid19_confirmed_global.csv')\n",
    "        self.deaths = pd.read_csv('https://raw.githubusercontent.com/CSSEGISandData/COVID-19/master/csse_covid_19_data/csse_covid_19_time_series/time_series_covid19_deaths_global.csv')\n",
    "        self.recovered = pd.read_csv('https://raw.githubusercontent.com/CSSEGISandData/COVID-19/master/csse_covid_19_data/csse_covid_19_time_series/time_series_covid19_recovered_global.csv')\n",
    "        if(country == \"World Wide\"):\n",
    "            self.PreparaDataGlobal()\n",
    "        else:\n",
    "            self.PreparaData()\n",
    "\n",
    "    def PreparaData(self):\n",
    "        confirmedPortugal = self.confirmed[ self.confirmed['Country/Region'] != self.country].index\n",
    "        self.confirmed.drop(confirmedPortugal , inplace=True)\n",
    "        deathsPortugal = self.deaths[ self.deaths['Country/Region'] != self.country].index\n",
    "        self.deaths.drop(deathsPortugal , inplace=True)\n",
    "        recoveredPortugal = self.recovered[ self.recovered['Country/Region'] != self.country].index\n",
    "        self.recovered.drop(recoveredPortugal , inplace=True)\n",
    "        self.confirmed = self.confirmed.drop(columns=['Province/State','Country/Region','Lat','Long'])\n",
    "        self.deaths = self.deaths.drop(columns=['Province/State','Country/Region','Lat','Long'])\n",
    "        self.recovered = self.recovered.drop(columns=['Province/State','Country/Region','Lat','Long'])\n",
    "        timesteps = []\n",
    "        total_infetados = []\n",
    "        total_Days = []\n",
    "        total_Deaths = []\n",
    "        total_Recovered = []\n",
    "        daily_deaths=[]\n",
    "        daily_cases=[]\n",
    "        day_of_week=[]\n",
    "        self.new_dataset = pd.DataFrame()\n",
    "        Ground_Zero = dt.strptime('12/31/19','%m/%d/%y')\n",
    "        for cols in self.confirmed.columns:\n",
    "            timesteps.append(cols)\n",
    "            total_infetados.append(self.confirmed[cols].sum())\n",
    "            current_date = dt.strptime(cols,'%m/%d/%y')\n",
    "            day_of_week.append(current_date.weekday())\n",
    "            days_Gone = current_date - Ground_Zero\n",
    "            total_Days.append(int(days_Gone.days))\n",
    "            daily_cases.append(self.confirmed[cols].sum()-sum(daily_cases))\n",
    "        for cols in self.deaths.columns:\n",
    "            total_Deaths.append(self.deaths[cols].sum())\n",
    "            daily_deaths.append(self.deaths[cols].sum()-sum(daily_deaths))\n",
    "        for cols in self.recovered.columns:\n",
    "            total_Recovered.append(self.recovered[cols].sum())\n",
    "        self.new_dataset['Total_Cases'] = total_infetados\n",
    "        self.new_dataset['Daily_Cases'] = daily_cases\n",
    "        self.new_dataset['WeekDay'] = day_of_week\n",
    "        self.new_dataset['Daily_Deaths'] = daily_deaths\n",
    "        self.new_dataset['Total_Recovered'] = total_Recovered\n",
    "        self.new_dataset['Total_Deaths'] = total_Deaths\n",
    "        self.new_dataset['Days_Gone'] = total_Days\n",
    "        pd.DataFrame.to_csv(self.new_dataset,'Dados/new_dataset.csv',index=False)\n",
    "    def PreparaDataGlobal(self):\n",
    "        self.confirmed = self.confirmed.drop(columns=['Province/State','Country/Region','Lat','Long'])\n",
    "        self.deaths = self.deaths.drop(columns=['Province/State','Country/Region','Lat','Long'])\n",
    "        self.recovered = self.recovered.drop(columns=['Province/State','Country/Region','Lat','Long'])\n",
    "        timesteps = []\n",
    "        total_infetados = []\n",
    "        total_Days = []\n",
    "        total_Deaths = []\n",
    "        total_Recovered = []\n",
    "        self.new_dataset = pd.DataFrame()\n",
    "        Ground_Zero = dt.strptime('12/31/19','%m/%d/%y')\n",
    "        for cols in self.confirmed.columns:\n",
    "            timesteps.append(cols)\n",
    "            total_infetados.append(self.confirmed[cols].sum())\n",
    "            current_date = dt.strptime(cols,'%m/%d/%y')\n",
    "            days_Gone = current_date - Ground_Zero\n",
    "            total_Days.append(int(days_Gone.days))\n",
    "        for cols in self.deaths.columns:\n",
    "            total_Deaths.append(self.deaths[cols].sum())\n",
    "        for cols in self.recovered.columns:\n",
    "            total_Recovered.append(self.recovered[cols].sum())\n",
    "        self.new_dataset['Total_Cases'] = total_infetados\n",
    "        self.new_dataset['Total_Recovered'] = total_Recovered\n",
    "        self.new_dataset['Total_Deaths'] = total_Deaths\n",
    "        self.new_dataset['Days_Gone'] = total_Days\n",
    "        pd.DataFrame.to_csv(self.new_dataset,'Dados/new_dataset.csv',index=False)"
   ]
  },
  {
   "cell_type": "markdown",
   "metadata": {},
   "source": [
    "# Portugal\n",
    "\n",
    "Decidimos utilizar Portugal como exemplo para as nossas previsões e para além disso só utilizados valores com 'Total_Cases' no país superior a zero, ou seja, desde que começou a pandemia no país."
   ]
  },
  {
   "cell_type": "code",
   "execution_count": 37,
   "metadata": {},
   "outputs": [
    {
     "data": {
      "text/plain": [
       "<__main__.Data at 0x1ce034e9ac8>"
      ]
     },
     "execution_count": 37,
     "metadata": {},
     "output_type": "execute_result"
    }
   ],
   "source": [
    "dados = Data('Portugal')"
   ]
  },
  {
   "cell_type": "code",
   "execution_count": 41,
   "metadata": {},
   "outputs": [
    {
     "data": {
      "text/html": [
       "<div>\n",
       "<style scoped>\n",
       "    .dataframe tbody tr th:only-of-type {\n",
       "        vertical-align: middle;\n",
       "    }\n",
       "\n",
       "    .dataframe tbody tr th {\n",
       "        vertical-align: top;\n",
       "    }\n",
       "\n",
       "    .dataframe thead th {\n",
       "        text-align: right;\n",
       "    }\n",
       "</style>\n",
       "<table border=\"1\" class=\"dataframe\">\n",
       "  <thead>\n",
       "    <tr style=\"text-align: right;\">\n",
       "      <th></th>\n",
       "      <th>Total_Cases</th>\n",
       "      <th>Daily_Cases</th>\n",
       "      <th>WeekDay</th>\n",
       "      <th>Daily_Deaths</th>\n",
       "      <th>Total_Recovered</th>\n",
       "      <th>Total_Deaths</th>\n",
       "      <th>Days_Gone</th>\n",
       "    </tr>\n",
       "  </thead>\n",
       "  <tbody>\n",
       "    <tr>\n",
       "      <th>40</th>\n",
       "      <td>2</td>\n",
       "      <td>2</td>\n",
       "      <td>0</td>\n",
       "      <td>0</td>\n",
       "      <td>0</td>\n",
       "      <td>0</td>\n",
       "      <td>62</td>\n",
       "    </tr>\n",
       "    <tr>\n",
       "      <th>41</th>\n",
       "      <td>2</td>\n",
       "      <td>0</td>\n",
       "      <td>1</td>\n",
       "      <td>0</td>\n",
       "      <td>0</td>\n",
       "      <td>0</td>\n",
       "      <td>63</td>\n",
       "    </tr>\n",
       "    <tr>\n",
       "      <th>42</th>\n",
       "      <td>5</td>\n",
       "      <td>3</td>\n",
       "      <td>2</td>\n",
       "      <td>0</td>\n",
       "      <td>0</td>\n",
       "      <td>0</td>\n",
       "      <td>64</td>\n",
       "    </tr>\n",
       "    <tr>\n",
       "      <th>43</th>\n",
       "      <td>8</td>\n",
       "      <td>3</td>\n",
       "      <td>3</td>\n",
       "      <td>0</td>\n",
       "      <td>0</td>\n",
       "      <td>0</td>\n",
       "      <td>65</td>\n",
       "    </tr>\n",
       "    <tr>\n",
       "      <th>44</th>\n",
       "      <td>13</td>\n",
       "      <td>5</td>\n",
       "      <td>4</td>\n",
       "      <td>0</td>\n",
       "      <td>0</td>\n",
       "      <td>0</td>\n",
       "      <td>66</td>\n",
       "    </tr>\n",
       "    <tr>\n",
       "      <th>...</th>\n",
       "      <td>...</td>\n",
       "      <td>...</td>\n",
       "      <td>...</td>\n",
       "      <td>...</td>\n",
       "      <td>...</td>\n",
       "      <td>...</td>\n",
       "      <td>...</td>\n",
       "    </tr>\n",
       "    <tr>\n",
       "      <th>147</th>\n",
       "      <td>37672</td>\n",
       "      <td>336</td>\n",
       "      <td>2</td>\n",
       "      <td>1</td>\n",
       "      <td>23580</td>\n",
       "      <td>1523</td>\n",
       "      <td>169</td>\n",
       "    </tr>\n",
       "    <tr>\n",
       "      <th>148</th>\n",
       "      <td>38089</td>\n",
       "      <td>417</td>\n",
       "      <td>3</td>\n",
       "      <td>1</td>\n",
       "      <td>24010</td>\n",
       "      <td>1524</td>\n",
       "      <td>170</td>\n",
       "    </tr>\n",
       "    <tr>\n",
       "      <th>149</th>\n",
       "      <td>38464</td>\n",
       "      <td>375</td>\n",
       "      <td>4</td>\n",
       "      <td>3</td>\n",
       "      <td>24477</td>\n",
       "      <td>1527</td>\n",
       "      <td>171</td>\n",
       "    </tr>\n",
       "    <tr>\n",
       "      <th>150</th>\n",
       "      <td>38841</td>\n",
       "      <td>377</td>\n",
       "      <td>5</td>\n",
       "      <td>1</td>\n",
       "      <td>24906</td>\n",
       "      <td>1528</td>\n",
       "      <td>172</td>\n",
       "    </tr>\n",
       "    <tr>\n",
       "      <th>151</th>\n",
       "      <td>39133</td>\n",
       "      <td>292</td>\n",
       "      <td>6</td>\n",
       "      <td>2</td>\n",
       "      <td>25376</td>\n",
       "      <td>1530</td>\n",
       "      <td>173</td>\n",
       "    </tr>\n",
       "  </tbody>\n",
       "</table>\n",
       "<p>112 rows × 7 columns</p>\n",
       "</div>"
      ],
      "text/plain": [
       "     Total_Cases  Daily_Cases  WeekDay  Daily_Deaths  Total_Recovered  \\\n",
       "40             2            2        0             0                0   \n",
       "41             2            0        1             0                0   \n",
       "42             5            3        2             0                0   \n",
       "43             8            3        3             0                0   \n",
       "44            13            5        4             0                0   \n",
       "..           ...          ...      ...           ...              ...   \n",
       "147        37672          336        2             1            23580   \n",
       "148        38089          417        3             1            24010   \n",
       "149        38464          375        4             3            24477   \n",
       "150        38841          377        5             1            24906   \n",
       "151        39133          292        6             2            25376   \n",
       "\n",
       "     Total_Deaths  Days_Gone  \n",
       "40              0         62  \n",
       "41              0         63  \n",
       "42              0         64  \n",
       "43              0         65  \n",
       "44              0         66  \n",
       "..            ...        ...  \n",
       "147          1523        169  \n",
       "148          1524        170  \n",
       "149          1527        171  \n",
       "150          1528        172  \n",
       "151          1530        173  \n",
       "\n",
       "[112 rows x 7 columns]"
      ]
     },
     "execution_count": 41,
     "metadata": {},
     "output_type": "execute_result"
    }
   ],
   "source": [
    "dados.new_dataset=dados.new_dataset[dados.new_dataset['Total_Cases']>0]\n",
    "dados.new_dataset"
   ]
  },
  {
   "cell_type": "markdown",
   "metadata": {},
   "source": [
    "# Linear Regression\n",
    "Decidimos utilizar a Linear Regression para compararmos os resultado com as RNN e verificar qual das abordagens é que obtinhamos melhores resultados.\n",
    "\n",
    "Na preparação dos dados estamos a utilizar o 'Days_Gone' para prever o 'Total_Cases', decidimos deixar o 'Total_Cases' pois, estávamos a obter melhores resultados em detrimento de 'Daily_Cases'. (A experiência pode ser verificada alterando o atributo de teste).\n",
    "\n",
    "Como o dataset é pequeno decidimos utilizar apenas 10% do dataset para treino.\n",
    "\n",
    "Na fase de treino foi implementado três métodos:\n",
    "- Ridge\n",
    "- Lasso\n",
    "- Regressor\n",
    "\n",
    "O método que se obteve melhores resultados foi o Lasso mas todos os métodos têm resultados parecidos. Para além disso também fizemos algumas experiência com o 'alpha' e 'max_iter' nos métodos 'Ridge' e 'Lasso'.\n",
    "\n",
    "Outra experiência realizada foi a normalização dos dados e verificar a diferença de resultados.\n",
    "\n"
   ]
  },
  {
   "cell_type": "code",
   "execution_count": 74,
   "metadata": {},
   "outputs": [],
   "source": [
    "class Linear_Regression():\n",
    "    def __init__(self,data):\n",
    "        self.dataset = data\n",
    "        self.dataset = np.asarray(self.dataset)\n",
    "        #self.NormalizeData()\n",
    "        self.PrepareData()\n",
    "        self.Fit()\n",
    "        \n",
    "    def PrepareData(self):\n",
    "        self.x_train, self.x_test,self.y_train, self.y_test = train_test_split(self.dataset[:,-1],self.dataset[:,0], test_size=0.1)\n",
    "    def Fit(self):\n",
    "        \n",
    "        #self.ridge = linear_model.Ridge(alpha=.001,max_iter=1000)\n",
    "        #self.ridge.fit(np.reshape(self.x_train,(-1,1)), self.y_train)\n",
    "        \n",
    "        self.lasso = linear_model.Lasso(alpha=.01,max_iter=20000)\n",
    "        self.lasso.fit(np.reshape(self.x_train,(-1,1)), self.y_train)\n",
    "        \n",
    "        \n",
    "        #self.regressor = LinearRegression()  \n",
    "        #self.regressor.fit(np.reshape(self.x_train,(-1,1)),self.y_train) #training the algorithm\n",
    "    def NormalizeData(self):\n",
    "        self.scaler = MinMaxScaler(feature_range=(-1, 1))\n",
    "        self.dataset = self.scaler.fit_transform(self.dataset)\n",
    "        #print(self.normalized)\n",
    "    def ComparePredictions(self):\n",
    "        self.y_pred = self.lasso.predict(np.reshape(self.x_test,(-1,1)))\n",
    "        count = 0\n",
    "        test = np.asarray(self.y_test)\n",
    "        for i in self.y_pred:\n",
    "            if i<0:\n",
    "                i=0\n",
    "            print('Predicted:' + str(int(i))+ '===== Real:' +str(test[count]) )\n",
    "            count +=1\n",
    "            \n",
    "        print('Mean Absolute Error:', metrics.mean_absolute_error(self.y_test, self.y_pred))\n",
    "        #print('Mean Squared Error:', metrics.mean_squared_error(self.y_test, y_pred))\n",
    "\n"
   ]
  },
  {
   "cell_type": "code",
   "execution_count": 75,
   "metadata": {},
   "outputs": [],
   "source": [
    "Model = Linear_Regression(dados.new_dataset)"
   ]
  },
  {
   "cell_type": "markdown",
   "metadata": {},
   "source": [
    "### Resultado obtido com o método Lasso"
   ]
  },
  {
   "cell_type": "code",
   "execution_count": 76,
   "metadata": {},
   "outputs": [
    {
     "data": {
      "text/plain": [
       "0.9647473857171349"
      ]
     },
     "execution_count": 76,
     "metadata": {},
     "output_type": "execute_result"
    }
   ],
   "source": [
    "Model.lasso.score(np.reshape(Model.x_train,(-1,1)),np.reshape(Model.y_train,(-1,1)))"
   ]
  },
  {
   "cell_type": "markdown",
   "metadata": {},
   "source": [
    "### Comparação de resultados entre o real e a regressão linear\n",
    "\n",
    "Podemos verificar casos onde a previsão foi realista e outros casos em que a previsão foi irrealista. Estes resultados podem ser melhorados com os seguintes fatores:\n",
    "\n",
    "- Maior dataset\n",
    "- Melhor otimização de hiperparâmetros\n",
    "\n",
    "Podemos concluir que os resultados foram piores em relação as RNN(LSTM's e GRU's).\n"
   ]
  },
  {
   "cell_type": "code",
   "execution_count": 77,
   "metadata": {},
   "outputs": [
    {
     "name": "stdout",
     "output_type": "stream",
     "text": [
      "Predicted:41361===== Real:38464\n",
      "Predicted:20102===== Real:24027\n",
      "Predicted:40960===== Real:38089\n",
      "Predicted:38553===== Real:36180\n",
      "Predicted:0===== Real:20\n",
      "Predicted:25718===== Real:27679\n",
      "Predicted:9673===== Real:8251\n",
      "Predicted:5261===== Real:1280\n",
      "Predicted:14487===== Real:16934\n",
      "Predicted:42163===== Real:39133\n",
      "Predicted:19300===== Real:23392\n",
      "Predicted:31735===== Real:31007\n",
      "Mean Absolute Error: 2508.650405009672\n"
     ]
    }
   ],
   "source": [
    "Model.ComparePredictions()"
   ]
  },
  {
   "cell_type": "markdown",
   "metadata": {},
   "source": [
    "### Gráfico onde é comparado os valores reais com a previsão da regressão linear"
   ]
  },
  {
   "cell_type": "code",
   "execution_count": 78,
   "metadata": {},
   "outputs": [
    {
     "data": {
      "image/png": "[encoded data removed]",
      "text/plain": [
       "<Figure size 432x288 with 1 Axes>"
      ]
     },
     "metadata": {
      "needs_background": "light"
     },
     "output_type": "display_data"
    }
   ],
   "source": [
    "plt.scatter(Model.x_test, Model.y_test,  color='gray',label='Real')\n",
    "plt.plot(Model.x_test, Model.y_pred, color='red', linewidth=2,label='Previsão')\n",
    "plt.title('Previsão Vs Real')\n",
    "plt.legend()\n",
    "plt.show()"
   ]
  },
  {
   "cell_type": "markdown",
   "metadata": {},
   "source": [
    "### Week day\n",
    "\n",
    "Gráfico onde é comparada a média de casos diários nos diferentes dias da semana, de realçar que os valores equivalem ao dia anterior por exemplo, os valores de sabado equivalem à média de casos diários na sexta feira.\n",
    "\n",
    "Pode-se verificar que a média de casos diários é menor ao domingo e segunda(que equivale a sábado e domingo).\n",
    "\n",
    "Estes resultados são mais acentuados em outros países como por exemplo o 'Brazil' e este facto deve-se a muitos dos laboratórios encontrarem-se encerrados durante o fim de semana.\n",
    "\n",
    "Depois de constatar este facto decidimos utilizar o 'WeekDay' nas previsões."
   ]
  },
  {
   "cell_type": "code",
   "execution_count": 79,
   "metadata": {},
   "outputs": [
    {
     "data": {
      "image/png": "[encoded data removed]",
      "text/plain": [
       "<Figure size 432x288 with 1 Axes>"
      ]
     },
     "metadata": {
      "needs_background": "light"
     },
     "output_type": "display_data"
    }
   ],
   "source": [
    "df_totalCases= dados.new_dataset.groupby('WeekDay').mean()\n",
    "df_totalCases=df_totalCases['Daily_Cases']\n",
    "dia = []\n",
    "for i in range(0,7):\n",
    "    dia = dia + [str(calendar.day_name[i])]\n",
    "df_totalCases.index=dia\n",
    "df_totalCases\n",
    "def Grafico_SpeedDiff_por_dia(df):\n",
    "    fig, ax = plt.subplots()\n",
    "    plt.bar(df.index, df, align='center', alpha=0.7)\n",
    "    \n",
    "    plt.title('Média Speed Diff por dia \\n')\n",
    "    plt.ylabel(\"Speed Diff\")\n",
    "    plt.xticks(rotation=45)\n",
    "    plt.show()\n",
    "    #fig.savefig(\"Imagens/Speed_Diff_Dia.png\")\n",
    "\n",
    "Grafico_SpeedDiff_por_dia(df_totalCases)"
   ]
  },
  {
   "cell_type": "code",
   "execution_count": 80,
   "metadata": {},
   "outputs": [
    {
     "data": {
      "text/plain": [
       "WeekDay\n",
       "0    251.9375\n",
       "1    329.5000\n",
       "2    362.3750\n",
       "3    405.1250\n",
       "4    424.5625\n",
       "5    338.1875\n",
       "6    334.1250\n",
       "Name: Daily_Cases, dtype: float64"
      ]
     },
     "execution_count": 80,
     "metadata": {},
     "output_type": "execute_result"
    }
   ],
   "source": [
    "df_totalCases= dados.new_dataset.groupby('WeekDay').mean()\n",
    "df_totalCases=df_totalCases['Daily_Cases']\n",
    "df_totalCases"
   ]
  },
  {
   "cell_type": "code",
   "execution_count": null,
   "metadata": {},
   "outputs": [],
   "source": [
    "\n"
   ]
  },
  {
   "cell_type": "code",
   "execution_count": null,
   "metadata": {},
   "outputs": [],
   "source": []
  }
 ],
 "metadata": {
  "kernelspec": {
   "display_name": "Python 3",
   "language": "python",
   "name": "python3"
  },
  "language_info": {
   "codemirror_mode": {
    "name": "ipython",
    "version": 3
   },
   "file_extension": ".py",
   "mimetype": "text/x-python",
   "name": "python",
   "nbconvert_exporter": "python",
   "pygments_lexer": "ipython3",
   "version": "3.7.7"
  }
 },
 "nbformat": 4,
 "nbformat_minor": 4
}
