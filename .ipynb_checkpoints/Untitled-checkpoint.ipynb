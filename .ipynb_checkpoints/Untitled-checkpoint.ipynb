{
 "cells": [
  {
   "cell_type": "code",
   "execution_count": 1,
   "metadata": {},
   "outputs": [],
   "source": [
    "import pandas as pd\n",
    "import numpy as np\n",
    "import tensorflow as tf\n",
    "from tensorflow import keras\n",
    "\n",
    "confirmed_cases = pd.read_csv('Dados/casos_confirmados.csv')\n",
    "confirmed_deaths = pd.read_csv('Dados/casos_mortes.csv')\n",
    "confirmed_recovered = pd.read_csv('Dados/casos_recuperados.csv')"
   ]
  },
  {
   "cell_type": "code",
   "execution_count": 3,
   "metadata": {},
   "outputs": [
    {
     "data": {
      "text/plain": [
       "<bound method DataFrame.info of      Province/State Country/Region      Lat      Long  1/22/20  1/23/20  \\\n",
       "0               NaN       Thailand  15.0000  101.0000        0        0   \n",
       "1               NaN          Japan  36.0000  138.0000        0        0   \n",
       "2               NaN      Singapore   1.2833  103.8333        0        0   \n",
       "3               NaN          Nepal  28.1667   84.2500        0        0   \n",
       "4               NaN       Malaysia   2.5000  112.5000        0        0   \n",
       "..              ...            ...      ...       ...      ...      ...   \n",
       "399     Socorro, NM             US  33.8837 -106.7235        0        0   \n",
       "400  Bernalillo, NM             US  35.0178 -106.6291        0        0   \n",
       "401     Oakland, MI             US  42.5922  -83.3362        0        0   \n",
       "402       Wayne, MI             US  42.2791  -83.3362        0        0   \n",
       "403  New Castle, DE             US  39.5393  -75.6674        0        0   \n",
       "\n",
       "     1/24/20  1/25/20  1/26/20  1/27/20  ...  3/2/20  3/3/20  3/4/20  3/5/20  \\\n",
       "0          0        0        2        2  ...      31      31      31      31   \n",
       "1          0        0        1        1  ...      32      43      43      43   \n",
       "2          0        0        0        0  ...      78      78      78      78   \n",
       "3          0        0        0        0  ...       1       1       1       1   \n",
       "4          0        0        0        0  ...      18      22      22      22   \n",
       "..       ...      ...      ...      ...  ...     ...     ...     ...     ...   \n",
       "399        0        0        0        0  ...       0       0       0       0   \n",
       "400        0        0        0        0  ...       0       0       0       0   \n",
       "401        0        0        0        0  ...       0       0       0       0   \n",
       "402        0        0        0        0  ...       0       0       0       0   \n",
       "403        0        0        0        0  ...       0       0       0       0   \n",
       "\n",
       "     3/6/20  3/7/20  3/8/20  3/9/20  3/10/20  3/11/20  \n",
       "0        31      31      31      31       33       34  \n",
       "1        46      76      76      76      101      118  \n",
       "2        78      78      78      78       78       96  \n",
       "3         1       1       1       1        1        1  \n",
       "4        22      23      24      24       24       26  \n",
       "..      ...     ...     ...     ...      ...      ...  \n",
       "399       0       0       0       0        0        0  \n",
       "400       0       0       0       0        0        0  \n",
       "401       0       0       0       0        0        0  \n",
       "402       0       0       0       0        0        0  \n",
       "403       0       0       0       0        0        0  \n",
       "\n",
       "[404 rows x 54 columns]>"
      ]
     },
     "execution_count": 3,
     "metadata": {},
     "output_type": "execute_result"
    }
   ],
   "source": [
    "confirmed_cases.info"
   ]
  },
  {
   "cell_type": "code",
   "execution_count": 4,
   "metadata": {},
   "outputs": [
    {
     "data": {
      "text/plain": [
       "0                 NaN\n",
       "1                 NaN\n",
       "2                 NaN\n",
       "3                 NaN\n",
       "4                 NaN\n",
       "            ...      \n",
       "399       Socorro, NM\n",
       "400    Bernalillo, NM\n",
       "401       Oakland, MI\n",
       "402         Wayne, MI\n",
       "403    New Castle, DE\n",
       "Name: Province/State, Length: 404, dtype: object"
      ]
     },
     "execution_count": 4,
     "metadata": {},
     "output_type": "execute_result"
    }
   ],
   "source": [
    "confirmed_cases['Province/State']"
   ]
  },
  {
   "cell_type": "code",
   "execution_count": 5,
   "metadata": {},
   "outputs": [
    {
     "ename": "SyntaxError",
     "evalue": "invalid syntax (<ipython-input-5-67406fe1882c>, line 1)",
     "output_type": "error",
     "traceback": [
      "\u001b[1;36m  File \u001b[1;32m\"<ipython-input-5-67406fe1882c>\"\u001b[1;36m, line \u001b[1;32m1\u001b[0m\n\u001b[1;33m    class MLP()\u001b[0m\n\u001b[1;37m               ^\u001b[0m\n\u001b[1;31mSyntaxError\u001b[0m\u001b[1;31m:\u001b[0m invalid syntax\n"
     ]
    }
   ],
   "source": [
    "class MLP():\n",
    "    def __init__():\n",
    "        \n",
    "        pass\n",
    "    def Build():\n",
    "        self.model = keras.Sequential([\n",
    "            keras.layers.Dense(units=256, activation='relu'),\n",
    "            keras.layers.Dense(units=192, activation='relu'),\n",
    "            keras.layers.Dense(units=128, activation='relu'),\n",
    "            keras.layers.Dense(units=self.output, activation='softmax')\n",
    "        ])\n",
    "    def Fit():\n",
    "        self.model.compile(optimizer=keras.optimizers.Adam(lr=0.001),loss=keras.metrics.categorical_crossentropy)\n",
    "        self.history = self.model.fit(x=self.X,y=self.y,epochs=5,validation_split=0.2)\n",
    "        \n",
    "model = MLP()\n"
   ]
  },
  {
   "cell_type": "code",
   "execution_count": null,
   "metadata": {},
   "outputs": [],
   "source": []
  }
 ],
 "metadata": {
  "kernelspec": {
   "display_name": "Python 3",
   "language": "python",
   "name": "python3"
  },
  "language_info": {
   "codemirror_mode": {
    "name": "ipython",
    "version": 3
   },
   "file_extension": ".py",
   "mimetype": "text/x-python",
   "name": "python",
   "nbconvert_exporter": "python",
   "pygments_lexer": "ipython3",
   "version": "3.7.6"
  }
 },
 "nbformat": 4,
 "nbformat_minor": 4
}
